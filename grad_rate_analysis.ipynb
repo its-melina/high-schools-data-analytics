{
 "cells": [
  {
   "cell_type": "code",
   "execution_count": 2,
   "metadata": {},
   "outputs": [
    {
     "name": "stderr",
     "output_type": "stream",
     "text": [
      "/Users/melina/.pyenv/versions/3.7.3/lib/python3.7/site-packages/pandas/compat/__init__.py:124: UserWarning: Could not import the lzma module. Your installed Python is incomplete. Attempting to use lzma compression will result in a RuntimeError.\n",
      "  warnings.warn(msg)\n"
     ]
    }
   ],
   "source": [
    "import pandas as pd"
   ]
  },
  {
   "cell_type": "code",
   "execution_count": 12,
   "metadata": {},
   "outputs": [
    {
     "data": {
      "text/html": [
       "<div>\n",
       "<style scoped>\n",
       "    .dataframe tbody tr th:only-of-type {\n",
       "        vertical-align: middle;\n",
       "    }\n",
       "\n",
       "    .dataframe tbody tr th {\n",
       "        vertical-align: top;\n",
       "    }\n",
       "\n",
       "    .dataframe thead th {\n",
       "        text-align: right;\n",
       "    }\n",
       "</style>\n",
       "<table border=\"1\" class=\"dataframe\">\n",
       "  <thead>\n",
       "    <tr style=\"text-align: right;\">\n",
       "      <th></th>\n",
       "      <th>School Name</th>\n",
       "      <th>School District</th>\n",
       "      <th>City</th>\n",
       "      <th>Total Students</th>\n",
       "      <th>County Name</th>\n",
       "      <th>District Name</th>\n",
       "      <th>Open Date</th>\n",
       "      <th>Charter</th>\n",
       "      <th>Funding Type</th>\n",
       "      <th>Virtual</th>\n",
       "      <th>...</th>\n",
       "      <th>Migrant (%)</th>\n",
       "      <th>Socioeconomically Disadvantaged</th>\n",
       "      <th>Socioeconomically Disadvantaged (%)</th>\n",
       "      <th>Students with Disabilities</th>\n",
       "      <th>Students with Disabilities (%)</th>\n",
       "      <th>Free/Reduced Meal Eligible</th>\n",
       "      <th>Free/Reduced Meal Eligible (%)</th>\n",
       "      <th>x</th>\n",
       "      <th>y</th>\n",
       "      <th>Graduation Rate</th>\n",
       "    </tr>\n",
       "  </thead>\n",
       "  <tbody>\n",
       "    <tr>\n",
       "      <th>0</th>\n",
       "      <td>Abraham Lincoln High School</td>\n",
       "      <td>San Jose Unified School District</td>\n",
       "      <td>San Jose</td>\n",
       "      <td>1703</td>\n",
       "      <td>Santa Clara</td>\n",
       "      <td>San Jose Unified</td>\n",
       "      <td>7/1/1980 12:00:00 AM</td>\n",
       "      <td>N</td>\n",
       "      <td>NaN</td>\n",
       "      <td>C</td>\n",
       "      <td>...</td>\n",
       "      <td>0.0</td>\n",
       "      <td>1005</td>\n",
       "      <td>59.4</td>\n",
       "      <td>166</td>\n",
       "      <td>9.8</td>\n",
       "      <td>907</td>\n",
       "      <td>53.6</td>\n",
       "      <td>-1.357254e+07</td>\n",
       "      <td>4.484949e+06</td>\n",
       "      <td>95%</td>\n",
       "    </tr>\n",
       "    <tr>\n",
       "      <th>1</th>\n",
       "      <td>Adrian Wilcox High School</td>\n",
       "      <td>Santa Clara Unified School District</td>\n",
       "      <td>Santa Clara</td>\n",
       "      <td>1981</td>\n",
       "      <td>Santa Clara</td>\n",
       "      <td>Santa Clara Unified</td>\n",
       "      <td>7/1/1980 12:00:00 AM</td>\n",
       "      <td>N</td>\n",
       "      <td>NaN</td>\n",
       "      <td>N</td>\n",
       "      <td>...</td>\n",
       "      <td>0.2</td>\n",
       "      <td>835</td>\n",
       "      <td>44.9</td>\n",
       "      <td>259</td>\n",
       "      <td>13.9</td>\n",
       "      <td>739</td>\n",
       "      <td>39.8</td>\n",
       "      <td>-1.357951e+07</td>\n",
       "      <td>4.490249e+06</td>\n",
       "      <td>95%</td>\n",
       "    </tr>\n",
       "    <tr>\n",
       "      <th>2</th>\n",
       "      <td>Ann Sobrato High School</td>\n",
       "      <td>Morgan Hill Unified School District</td>\n",
       "      <td>Morgan Hill</td>\n",
       "      <td>1476</td>\n",
       "      <td>Santa Clara</td>\n",
       "      <td>Morgan Hill Unified</td>\n",
       "      <td>8/26/2004 12:00:00 AM</td>\n",
       "      <td>N</td>\n",
       "      <td>NaN</td>\n",
       "      <td>C</td>\n",
       "      <td>...</td>\n",
       "      <td>1.1</td>\n",
       "      <td>443</td>\n",
       "      <td>29.1</td>\n",
       "      <td>159</td>\n",
       "      <td>10.5</td>\n",
       "      <td>416</td>\n",
       "      <td>27.4</td>\n",
       "      <td>-1.354417e+07</td>\n",
       "      <td>4.461488e+06</td>\n",
       "      <td>96%</td>\n",
       "    </tr>\n",
       "  </tbody>\n",
       "</table>\n",
       "<p>3 rows × 59 columns</p>\n",
       "</div>"
      ],
      "text/plain": [
       "                   School Name                      School District  \\\n",
       "0  Abraham Lincoln High School     San Jose Unified School District   \n",
       "1    Adrian Wilcox High School  Santa Clara Unified School District   \n",
       "2      Ann Sobrato High School  Morgan Hill Unified School District   \n",
       "\n",
       "          City  Total Students  County Name        District Name  \\\n",
       "0     San Jose            1703  Santa Clara     San Jose Unified   \n",
       "1  Santa Clara            1981  Santa Clara  Santa Clara Unified   \n",
       "2  Morgan Hill            1476  Santa Clara  Morgan Hill Unified   \n",
       "\n",
       "               Open Date Charter  Funding Type Virtual  ... Migrant (%)  \\\n",
       "0   7/1/1980 12:00:00 AM       N           NaN       C  ...         0.0   \n",
       "1   7/1/1980 12:00:00 AM       N           NaN       N  ...         0.2   \n",
       "2  8/26/2004 12:00:00 AM       N           NaN       C  ...         1.1   \n",
       "\n",
       "  Socioeconomically Disadvantaged Socioeconomically Disadvantaged (%)  \\\n",
       "0                            1005                                59.4   \n",
       "1                             835                                44.9   \n",
       "2                             443                                29.1   \n",
       "\n",
       "  Students with Disabilities Students with Disabilities (%)  \\\n",
       "0                        166                            9.8   \n",
       "1                        259                           13.9   \n",
       "2                        159                           10.5   \n",
       "\n",
       "   Free/Reduced Meal Eligible Free/Reduced Meal Eligible (%)             x  \\\n",
       "0                         907                           53.6 -1.357254e+07   \n",
       "1                         739                           39.8 -1.357951e+07   \n",
       "2                         416                           27.4 -1.354417e+07   \n",
       "\n",
       "              y  Graduation Rate  \n",
       "0  4.484949e+06              95%  \n",
       "1  4.490249e+06              95%  \n",
       "2  4.461488e+06              96%  \n",
       "\n",
       "[3 rows x 59 columns]"
      ]
     },
     "execution_count": 12,
     "metadata": {},
     "output_type": "execute_result"
    }
   ],
   "source": [
    "school_data = pd.read_csv(\"scc_school_data.csv\")\n",
    "school_data.head(3)"
   ]
  },
  {
   "cell_type": "code",
   "execution_count": 13,
   "metadata": {},
   "outputs": [],
   "source": [
    "school_data['Graduation Rate'] = school_data['Graduation Rate'].str.replace('%','').astype(int)"
   ]
  },
  {
   "cell_type": "code",
   "execution_count": 15,
   "metadata": {},
   "outputs": [
    {
     "data": {
      "text/plain": [
       "-0.6813618272487857"
      ]
     },
     "execution_count": 15,
     "metadata": {},
     "output_type": "execute_result"
    }
   ],
   "source": [
    "school_data['Socioeconomically Disadvantaged (%)'].corr(school_data['Graduation Rate'])"
   ]
  },
  {
   "cell_type": "code",
   "execution_count": null,
   "metadata": {},
   "outputs": [],
   "source": []
  }
 ],
 "metadata": {
  "kernelspec": {
   "display_name": "Python 3",
   "language": "python",
   "name": "python3"
  },
  "language_info": {
   "codemirror_mode": {
    "name": "ipython",
    "version": 3
   },
   "file_extension": ".py",
   "mimetype": "text/x-python",
   "name": "python",
   "nbconvert_exporter": "python",
   "pygments_lexer": "ipython3",
   "version": "3.7.3"
  },
  "orig_nbformat": 4
 },
 "nbformat": 4,
 "nbformat_minor": 2
}
